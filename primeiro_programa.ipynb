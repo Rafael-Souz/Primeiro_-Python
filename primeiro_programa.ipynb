{
  "nbformat": 4,
  "nbformat_minor": 0,
  "metadata": {
    "colab": {
      "name": "primeiro.programa.ipynb",
      "provenance": [],
      "authorship_tag": "ABX9TyNF50jDiXZ2LLvIeHw+RmoV",
      "include_colab_link": true
    },
    "kernelspec": {
      "name": "python3",
      "display_name": "Python 3"
    },
    "language_info": {
      "name": "python"
    }
  },
  "cells": [
    {
      "cell_type": "markdown",
      "metadata": {
        "id": "view-in-github",
        "colab_type": "text"
      },
      "source": [
        "<a href=\"https://colab.research.google.com/github/Rafael-Souz/Primeiro_-Python/blob/main/primeiro_programa.ipynb\" target=\"_parent\"><img src=\"https://colab.research.google.com/assets/colab-badge.svg\" alt=\"Open In Colab\"/></a>"
      ]
    },
    {
      "cell_type": "markdown",
      "source": [
        "\n",
        "<h1> Primeiros passos em Python</h1>"
      ],
      "metadata": {
        "id": "R3bCZnDwnV77"
      }
    },
    {
      "cell_type": "code",
      "execution_count": 3,
      "metadata": {
        "colab": {
          "base_uri": "https://localhost:8080/"
        },
        "id": "FyOmyGHUmF0c",
        "outputId": "eaf57e21-7766-4e60-8de2-c47fc3c6d08c"
      },
      "outputs": [
        {
          "output_type": "stream",
          "name": "stdout",
          "text": [
            "rafael silva\n",
            "5\n"
          ]
        }
      ],
      "source": [
        "print(\"Rafael silva\")\n",
        "print(2 + 3)"
      ]
    },
    {
      "cell_type": "markdown",
      "source": [
        "<h2>Comentários </h2>\n"
      ],
      "metadata": {
        "id": "lNoR0GdonTfu"
      }
    },
    {
      "cell_type": "code",
      "source": [
        "#comentário para uma linha\n",
        "\"\"\"comentário de várias linhas\"\"\""
      ],
      "metadata": {
        "id": "sMeMaektpBe4"
      },
      "execution_count": null,
      "outputs": []
    },
    {
      "cell_type": "markdown",
      "source": [
        "<h1>Aprendendo</h1>"
      ],
      "metadata": {
        "id": "XTsP-BdtpCSt"
      }
    },
    {
      "cell_type": "code",
      "source": [
        "idade = 28\n",
        "nome = \"Rafael\"\n",
        "Endereco = \"Tv. nogammam\"\n",
        "print(nome )\n",
        "print(idade )\n",
        "print(Endereco)"
      ],
      "metadata": {
        "colab": {
          "base_uri": "https://localhost:8080/"
        },
        "id": "dCyZS__Mp12l",
        "outputId": "b91b4ca7-d5ea-430f-ffd6-5d1ea164f7f8"
      },
      "execution_count": 4,
      "outputs": [
        {
          "output_type": "stream",
          "name": "stdout",
          "text": [
            "Rafael\n",
            "28\n",
            "Tv. nogammam\n"
          ]
        }
      ]
    },
    {
      "cell_type": "code",
      "source": [
        ""
      ],
      "metadata": {
        "id": "59gw8gKRpKWt"
      },
      "execution_count": null,
      "outputs": []
    },
    {
      "cell_type": "markdown",
      "source": [
        "<h1>Operadores matemáticos</h1>\n"
      ],
      "metadata": {
        "id": "Nw2ZDqF2u13j"
      }
    },
    {
      "cell_type": "code",
      "source": [
        "a = 8\n",
        "b = 6\n",
        "print(a + b)\n",
        "print(( a * b)/ 2)\n",
        "print((a ^ b) -5)"
      ],
      "metadata": {
        "colab": {
          "base_uri": "https://localhost:8080/"
        },
        "id": "MMTdOrOjvA6T",
        "outputId": "0323cf35-7a41-4eba-96b5-66de7d2f486d"
      },
      "execution_count": 8,
      "outputs": [
        {
          "output_type": "stream",
          "name": "stdout",
          "text": [
            "14\n",
            "24.0\n",
            "9\n"
          ]
        }
      ]
    }
  ]
}