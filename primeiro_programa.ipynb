{
  "nbformat": 4,
  "nbformat_minor": 0,
  "metadata": {
    "colab": {
      "name": "primeiro_programa.ipynb",
      "provenance": [],
      "include_colab_link": true
    },
    "kernelspec": {
      "name": "python3",
      "display_name": "Python 3"
    },
    "language_info": {
      "name": "python"
    }
  },
  "cells": [
    {
      "cell_type": "markdown",
      "metadata": {
        "id": "view-in-github",
        "colab_type": "text"
      },
      "source": [
        "<a href=\"https://colab.research.google.com/github/Rafael-Souz/Primeiro_-Python/blob/main/primeiro_programa.ipynb\" target=\"_parent\"><img src=\"https://colab.research.google.com/assets/colab-badge.svg\" alt=\"Open In Colab\"/></a>"
      ]
    },
    {
      "cell_type": "markdown",
      "source": [
        "# Escrevendo Hello world"
      ],
      "metadata": {
        "id": "lNVeStVfnRmE"
      }
    },
    {
      "cell_type": "code",
      "execution_count": null,
      "metadata": {
        "colab": {
          "base_uri": "https://localhost:8080/"
        },
        "id": "EMbKqc5imSpx",
        "outputId": "74840731-8647-429b-f91a-99f30ea0a73e"
      },
      "outputs": [
        {
          "output_type": "stream",
          "name": "stdout",
          "text": [
            "Hello world\n",
            "5\n"
          ]
        }
      ],
      "source": [
        "print(\"Hello world\") # Comentário\n",
        "print(2 + 3)"
      ]
    },
    {
      "cell_type": "code",
      "source": [
        ""
      ],
      "metadata": {
        "id": "Ky4k69h66r7g"
      },
      "execution_count": null,
      "outputs": []
    },
    {
      "cell_type": "markdown",
      "source": [
        "## Comentários"
      ],
      "metadata": {
        "id": "0DIYMfCvoWnc"
      }
    },
    {
      "cell_type": "code",
      "source": [
        "# Isso é um comentário\n",
        "\"\"\"\n",
        "Isso é um comentário\n",
        "de mais de uma linha\n",
        "por quê sim\n",
        "\"\"\""
      ],
      "metadata": {
        "colab": {
          "base_uri": "https://localhost:8080/",
          "height": 35
        },
        "id": "WbY4VOLUoMnX",
        "outputId": "0abbbc9f-3c5a-4235-b86e-6f0380c20789"
      },
      "execution_count": null,
      "outputs": [
        {
          "output_type": "execute_result",
          "data": {
            "application/vnd.google.colaboratory.intrinsic+json": {
              "type": "string"
            },
            "text/plain": [
              "'\\nIsso é um comentário\\nde mais de uma linha\\npor quê sim\\n'"
            ]
          },
          "metadata": {},
          "execution_count": 4
        }
      ]
    },
    {
      "cell_type": "markdown",
      "source": [
        "## Variáveis"
      ],
      "metadata": {
        "id": "fQYexuGRpf25"
      }
    },
    {
      "cell_type": "code",
      "source": [
        "# declaração\n",
        "# definição\n",
        "# atribuição\n",
        "idade = 28\n",
        "nome = 'Luis'\n",
        "altura = 1.85\n",
        "idade = \"30\"\n",
        "lista_fruta = (\"Maça\", \"Banana\", \"Morango\", '28', 1.85)\n",
        "print(idade)\n",
        "print(nome)\n",
        "print(altura)\n",
        "print(lista_fruta)"
      ],
      "metadata": {
        "colab": {
          "base_uri": "https://localhost:8080/"
        },
        "id": "5dW6m8uapZ-k",
        "outputId": "8fce5bb0-4dbe-4f95-9e1e-3f7ef35170ef"
      },
      "execution_count": null,
      "outputs": [
        {
          "output_type": "stream",
          "name": "stdout",
          "text": [
            "30\n",
            "Luis\n",
            "1.85\n",
            "('Maça', 'Banana', 'Morango', '28', 1.85)\n"
          ]
        }
      ]
    },
    {
      "cell_type": "markdown",
      "source": [
        "# Sabendo o tipo de dados"
      ],
      "metadata": {
        "id": "AmHxjQZgsIfY"
      }
    },
    {
      "cell_type": "code",
      "source": [
        "x = 5\n",
        "print(type(x))\n",
        "\n",
        "# Com str\n",
        "print(type('Esse e um string.') )\n",
        "print(type(\"E esse tambem eh um string.\") )\n",
        "print(type(\"\"\"e esse.\"\"\") )\n",
        "print(type('''e mesmo esse...''') )\n",
        "print(type(lista_fruta))"
      ],
      "metadata": {
        "colab": {
          "base_uri": "https://localhost:8080/"
        },
        "id": "L0BY0SLAq2Tn",
        "outputId": "3246ff42-4d1d-4ea1-bd82-776de405874f"
      },
      "execution_count": null,
      "outputs": [
        {
          "output_type": "stream",
          "name": "stdout",
          "text": [
            "<class 'int'>\n",
            "<class 'str'>\n",
            "<class 'str'>\n",
            "<class 'str'>\n",
            "<class 'str'>\n",
            "<class 'tuple'>\n"
          ]
        }
      ]
    },
    {
      "cell_type": "markdown",
      "source": [
        "# Conversão de tipos"
      ],
      "metadata": {
        "id": "Vbzf-gxZsup0"
      }
    },
    {
      "cell_type": "code",
      "source": [
        "PI = 3.14159265\n",
        "E = 2.786593\n",
        "\n",
        "print(\"{:.2f}\".format(PI))\n",
        "print(round(E, 3))\n",
        "\n",
        "# print((int(idade_1) + int(idade_2))/2)\n",
        "# print((float(idade_1) + float(idade_2))/2)\n"
      ],
      "metadata": {
        "colab": {
          "base_uri": "https://localhost:8080/"
        },
        "id": "WMpeWDGArjR9",
        "outputId": "ec6bf441-1474-4f15-9f49-77787b9f4fff"
      },
      "execution_count": null,
      "outputs": [
        {
          "output_type": "stream",
          "name": "stdout",
          "text": [
            "3.14\n",
            "2.787\n"
          ]
        }
      ]
    },
    {
      "cell_type": "code",
      "source": [
        "x = \"Hello World\"\t# str\t\n",
        "x = 20\t# int\t\n",
        "x = 20.5\t# float\t\n",
        "x = 1j\t# complex\t\n",
        "x = [\"apple\", \"banana\", \"cherry\"]\t# list\thttps://docs.python.org/pt-br/3/library/stdtypes.html?highlight=frozen#lists\n",
        "x = (\"apple\", \"banana\", \"cherry\")\t# tuple\thttps://docs.python.org/pt-br/3/library/stdtypes.html?highlight=frozen#tuples\n",
        "x = range(6) #\trange\t\n",
        "x = {\"name\" : \"John\", \"age\" : 36}\t# dict\thttps://docs.python.org/pt-br/3/library/stdtypes.html?highlight=frozen#mapping-types-dict\n",
        "x = {\"apple\", \"banana\", \"cherry\"}\t# set\thttps://docs.python.org/pt-br/3/library/stdtypes.html?highlight=frozen#set\n",
        "x = frozenset({\"apple\", \"banana\", \"cherry\"})\t# frozenset https://docs.python.org/pt-br/3/library/stdtypes.html?highlight=frozen#frozenset\n",
        "x = True\t# bool\t\n",
        "x = b\"Hello\"\t# bytes\thttps://docs.python.org/pt-br/3/library/stdtypes.html?highlight=frozen#bytes-and-bytearray-operations\n",
        "x = bytearray(5)\t# bytearray\thttps://docs.python.org/pt-br/3/library/stdtypes.html?highlight=frozen#bytes-and-bytearray-operations\n",
        "x = memoryview(bytes(5)) # memoryview https://docs.python.org/pt-br/3/library/stdtypes.html?highlight=frozen#memory-views\n"
      ],
      "metadata": {
        "id": "ZyIfgl5Rs_Q-"
      },
      "execution_count": null,
      "outputs": []
    },
    {
      "cell_type": "markdown",
      "source": [
        "# Operadores matemáticos"
      ],
      "metadata": {
        "id": "4CxGTaSLuwR3"
      }
    },
    {
      "cell_type": "code",
      "source": [
        "hora = 2\n",
        "minutos = 12\n",
        "\n",
        "#Adição \n",
        "print(20 + 32)\n",
        "#Multiplicação com Subtração\n",
        "print(hora * 60 - minutos)\n",
        "print(hora * 60 / minutos)\n",
        "# ----->\n",
        "print(hora / 60 * minutos)\n",
        "# ----->\n",
        "#Divisão\n",
        "print(minutos / 60)\n",
        "#Exponenciação\n",
        "print(5 ** 2)\n",
        "#Equações em geral\n",
        "print((5 + 9) * (15 - 7))\n",
        "\n",
        "# Mais exemplos\n",
        "print(2 + 3)\n",
        "print(2 - 3)\n",
        "print(2 * 3)\n",
        "print(2 ** 3)\n",
        "print(3 ** 2)"
      ],
      "metadata": {
        "colab": {
          "base_uri": "https://localhost:8080/"
        },
        "id": "2QlzYibIux3s",
        "outputId": "27a519a8-184e-4beb-82b3-5f6549b3f280"
      },
      "execution_count": null,
      "outputs": [
        {
          "output_type": "stream",
          "name": "stdout",
          "text": [
            "52\n",
            "108\n",
            "10.0\n",
            "0.4\n",
            "0.2\n",
            "25\n",
            "112\n",
            "5\n",
            "-1\n",
            "6\n",
            "8\n",
            "9\n"
          ]
        }
      ]
    },
    {
      "cell_type": "markdown",
      "source": [
        "# Controle de fluxo\n",
        "\n",
        "```python\n",
        "if test expression:\n",
        "    statement(s)\n",
        "```"
      ],
      "metadata": {
        "id": "phkcQ4lGvjOX"
      }
    },
    {
      "cell_type": "code",
      "source": [
        "idade_permitida = 18\n",
        "if idade_permitida >= 21:\n",
        "  print(\"Entrada Permitida\")\n",
        "else:\n",
        "  print(\"Entrada não permitida\")"
      ],
      "metadata": {
        "colab": {
          "base_uri": "https://localhost:8080/"
        },
        "id": "8Nv0EJaFvr9c",
        "outputId": "93cd1c45-9485-458b-c465-b9fd0aad8703"
      },
      "execution_count": null,
      "outputs": [
        {
          "output_type": "stream",
          "name": "stdout",
          "text": [
            "Entrada não permitida\n"
          ]
        }
      ]
    },
    {
      "cell_type": "code",
      "source": [
        "idade_permitida = 21\n",
        "if idade_permitida > 21:\n",
        "  print(\"Entrada Permitida\")\n",
        "elif idade_permitida == 21:\n",
        "  print(\"Pode entrar\")\n",
        "else:\n",
        "  print(\"Entrada não permitida\")"
      ],
      "metadata": {
        "colab": {
          "base_uri": "https://localhost:8080/"
        },
        "id": "pUp3UlGOwHv2",
        "outputId": "eaa078c5-6759-4af8-8fce-58aa48e99d2a"
      },
      "execution_count": null,
      "outputs": [
        {
          "output_type": "stream",
          "name": "stdout",
          "text": [
            "Pode entrar\n"
          ]
        }
      ]
    },
    {
      "cell_type": "markdown",
      "source": [
        "# Laço de repetição"
      ],
      "metadata": {
        "id": "uTZi4h6tw3kw"
      }
    },
    {
      "cell_type": "code",
      "source": [
        "i = 1\n",
        "while i < 10:\n",
        "  if i == 5:\n",
        "    break\n",
        "  print(i) \n",
        "  #i = i + 1\n",
        "  i += 1"
      ],
      "metadata": {
        "colab": {
          "base_uri": "https://localhost:8080/"
        },
        "id": "G97_YK6mwvRP",
        "outputId": "4ee8f93f-002f-4f62-e41b-a6c0a5439dd6"
      },
      "execution_count": null,
      "outputs": [
        {
          "output_type": "stream",
          "name": "stdout",
          "text": [
            "1\n",
            "2\n",
            "3\n",
            "4\n"
          ]
        }
      ]
    },
    {
      "cell_type": "code",
      "source": [
        "i = 0\n",
        "while i < 10:\n",
        "  i += 1\n",
        "  if i == 5:\n",
        "    continue\n",
        "  print(i) \n",
        "  #i = i + 1\n",
        "  "
      ],
      "metadata": {
        "colab": {
          "base_uri": "https://localhost:8080/"
        },
        "id": "GBlIwdE4xSr6",
        "outputId": "eaa25825-617d-4c9d-faa3-4429a9bd2c13"
      },
      "execution_count": null,
      "outputs": [
        {
          "output_type": "stream",
          "name": "stdout",
          "text": [
            "1\n",
            "2\n",
            "3\n",
            "4\n",
            "6\n",
            "7\n",
            "8\n",
            "9\n",
            "10\n"
          ]
        }
      ]
    },
    {
      "cell_type": "code",
      "source": [
        "frutas = [\"apple\", \"banana\", \"cherry\"]\n",
        "for fruta in frutas:\n",
        "  print(fruta)\n"
      ],
      "metadata": {
        "colab": {
          "base_uri": "https://localhost:8080/"
        },
        "id": "scmMtc-4yNEb",
        "outputId": "556fc9d0-ceb2-4b36-f2a0-02c2e41ad159"
      },
      "execution_count": null,
      "outputs": [
        {
          "output_type": "stream",
          "name": "stdout",
          "text": [
            "apple\n",
            "banana\n",
            "cherry\n"
          ]
        }
      ]
    },
    {
      "cell_type": "code",
      "source": [
        "for numero in range(2, 10):\n",
        "  print(numero)"
      ],
      "metadata": {
        "colab": {
          "base_uri": "https://localhost:8080/"
        },
        "id": "7vXWTK5szlrw",
        "outputId": "a9e65abb-872a-4a81-93f2-3e8a5034c542"
      },
      "execution_count": null,
      "outputs": [
        {
          "output_type": "stream",
          "name": "stdout",
          "text": [
            "2\n",
            "3\n",
            "4\n",
            "5\n",
            "6\n",
            "7\n",
            "8\n",
            "9\n"
          ]
        }
      ]
    },
    {
      "cell_type": "code",
      "source": [
        "for numero in range(2, 10, 2): \n",
        " print(numero)"
      ],
      "metadata": {
        "colab": {
          "base_uri": "https://localhost:8080/"
        },
        "id": "AfrAW8FNzuM8",
        "outputId": "e35de297-7530-4891-e0da-ff964fad027f"
      },
      "execution_count": null,
      "outputs": [
        {
          "output_type": "stream",
          "name": "stdout",
          "text": [
            "2\n",
            "4\n",
            "6\n",
            "8\n"
          ]
        }
      ]
    },
    {
      "cell_type": "markdown",
      "source": [
        "# Funções em python"
      ],
      "metadata": {
        "id": "I54nwOuo0pdX"
      }
    },
    {
      "cell_type": "code",
      "source": [
        "def validar_idade_sem_retorno_valor(idade):\n",
        "  idade_permitida = 21\n",
        "  if idade_permitida < idade:\n",
        "    print(\"Entrada Permitida\")\n",
        "  elif idade_permitida == idade:\n",
        "    print(\"Pode entrar\")\n",
        "  else:\n",
        "    print(\"Entrada não permitida\")\n",
        "\n",
        "validar_idade_sem_retorno_valor(25)"
      ],
      "metadata": {
        "colab": {
          "base_uri": "https://localhost:8080/"
        },
        "id": "CZvFmTodz1gu",
        "outputId": "ebffd432-e025-4276-c346-1544448a0540"
      },
      "execution_count": null,
      "outputs": [
        {
          "output_type": "stream",
          "name": "stdout",
          "text": [
            "Entrada Permitida\n"
          ]
        }
      ]
    },
    {
      "cell_type": "code",
      "source": [
        "def validar_idade_com_retorno(idade):\n",
        "  idade_permitida = 21\n",
        "  if idade_permitida < idade:\n",
        "    return \"Entrada Permitida\"\n",
        "  elif idade_permitida == idade:\n",
        "    return \"Pode entrar\"\n",
        "  else:\n",
        "    return \"Entrada não permitida\"\n",
        "situacao_da_idade = validar_idade_com_retorno(25)"
      ],
      "metadata": {
        "id": "JSEsN0tx1hkF"
      },
      "execution_count": null,
      "outputs": []
    },
    {
      "cell_type": "code",
      "source": [
        "print(situacao_da_idade)"
      ],
      "metadata": {
        "colab": {
          "base_uri": "https://localhost:8080/"
        },
        "id": "dkF7y7EW2KLb",
        "outputId": "e0ad65ec-5e9e-40de-9dd7-b6743dd6c4b1"
      },
      "execution_count": null,
      "outputs": [
        {
          "output_type": "stream",
          "name": "stdout",
          "text": [
            "Entrada Permitida\n"
          ]
        }
      ]
    },
    {
      "cell_type": "markdown",
      "source": [
        "## Pedir para que o usuário informe a idade através do console"
      ],
      "metadata": {
        "id": "jih9oIJV2tWt"
      }
    },
    {
      "cell_type": "code",
      "source": [
        "idade = input('Entre com a idade')\n",
        "print(idade)"
      ],
      "metadata": {
        "colab": {
          "base_uri": "https://localhost:8080/"
        },
        "id": "vZiB08r42UpL",
        "outputId": "59b9942c-b811-4460-dd2a-8713e49eb1cb"
      },
      "execution_count": null,
      "outputs": [
        {
          "output_type": "stream",
          "name": "stdout",
          "text": [
            "Entre com a idade30\n",
            "30\n"
          ]
        }
      ]
    },
    {
      "cell_type": "markdown",
      "source": [
        "# Tratamento de exceções"
      ],
      "metadata": {
        "id": "pnrCLinv2zjv"
      }
    },
    {
      "cell_type": "code",
      "source": [
        "try:\n",
        "  int(\"10\")\n",
        "except:\n",
        "  print(\"Houve uma exceção, contate o adm\")\n"
      ],
      "metadata": {
        "id": "YvplskvG2iw0"
      },
      "execution_count": null,
      "outputs": []
    },
    {
      "cell_type": "code",
      "source": [
        "# int(\"10b\")"
      ],
      "metadata": {
        "id": "bmM4e0fg3W30"
      },
      "execution_count": null,
      "outputs": []
    },
    {
      "cell_type": "code",
      "source": [
        ""
      ],
      "metadata": {
        "colab": {
          "base_uri": "https://localhost:8080/"
        },
        "id": "a5IBaMT43ZIT",
        "outputId": "865d28e4-4a9c-4ac4-e5cc-6b95ffbc0795"
      },
      "execution_count": null,
      "outputs": [
        {
          "output_type": "execute_result",
          "data": {
            "text/plain": [
              "0"
            ]
          },
          "metadata": {},
          "execution_count": 63
        }
      ]
    },
    {
      "cell_type": "code",
      "source": [
        "valor = 10\n",
        "print(valor ** 0.5)"
      ],
      "metadata": {
        "colab": {
          "base_uri": "https://localhost:8080/"
        },
        "id": "tTScccsR3uzJ",
        "outputId": "8189a619-ff4b-4d0a-c544-f515317aa147"
      },
      "execution_count": null,
      "outputs": [
        {
          "output_type": "stream",
          "name": "stdout",
          "text": [
            "3.1622776601683795\n"
          ]
        }
      ]
    },
    {
      "cell_type": "code",
      "source": [
        "import math as m"
      ],
      "metadata": {
        "id": "0aY6IWCw4iCs"
      },
      "execution_count": null,
      "outputs": []
    },
    {
      "cell_type": "code",
      "source": [
        "print(m.sqrt(valor))"
      ],
      "metadata": {
        "colab": {
          "base_uri": "https://localhost:8080/"
        },
        "id": "oyMdsVXj4tlL",
        "outputId": "6fdcaa22-ebfa-4c2b-fbc2-d6cb2646d4ef"
      },
      "execution_count": null,
      "outputs": [
        {
          "output_type": "stream",
          "name": "stdout",
          "text": [
            "3.1622776601683795\n"
          ]
        }
      ]
    },
    {
      "cell_type": "code",
      "source": [
        "import math"
      ],
      "metadata": {
        "id": "vOj9eIa149Lk"
      },
      "execution_count": null,
      "outputs": []
    },
    {
      "cell_type": "code",
      "source": [
        "from math import sqrt "
      ],
      "metadata": {
        "id": "Gz1e8tKa5A7f"
      },
      "execution_count": null,
      "outputs": []
    },
    {
      "cell_type": "code",
      "source": [
        "sqrt(valor)"
      ],
      "metadata": {
        "colab": {
          "base_uri": "https://localhost:8080/"
        },
        "id": "RJPBhoKk5e_b",
        "outputId": "3bfab1b5-4bd5-46a4-e188-cbed410564f7"
      },
      "execution_count": null,
      "outputs": [
        {
          "output_type": "execute_result",
          "data": {
            "text/plain": [
              "3.1622776601683795"
            ]
          },
          "metadata": {},
          "execution_count": 70
        }
      ]
    },
    {
      "cell_type": "code",
      "source": [
        "from math import sqrt as raiz_quadrada"
      ],
      "metadata": {
        "id": "apjKZouj5gST"
      },
      "execution_count": null,
      "outputs": []
    },
    {
      "cell_type": "code",
      "source": [
        "raiz_quadrada(valor)"
      ],
      "metadata": {
        "colab": {
          "base_uri": "https://localhost:8080/"
        },
        "id": "8xHc8W7Y5nQM",
        "outputId": "7aaeb550-74bc-4524-fed4-eb68dfeec5bf"
      },
      "execution_count": null,
      "outputs": [
        {
          "output_type": "execute_result",
          "data": {
            "text/plain": [
              "3.1622776601683795"
            ]
          },
          "metadata": {},
          "execution_count": 72
        }
      ]
    },
    {
      "cell_type": "code",
      "source": [
        "!pip download pandas"
      ],
      "metadata": {
        "colab": {
          "base_uri": "https://localhost:8080/"
        },
        "id": "57RT1zv55qWc",
        "outputId": "07fdf1f6-ea35-4df1-cf02-3c2d38c2bf3c"
      },
      "execution_count": null,
      "outputs": [
        {
          "output_type": "stream",
          "name": "stdout",
          "text": [
            "Collecting pandas\n",
            "  Downloading pandas-1.3.5-cp37-cp37m-manylinux_2_17_x86_64.manylinux2014_x86_64.whl (11.3 MB)\n",
            "\u001b[K     |████████████████████████████████| 11.3 MB 21.3 MB/s \n",
            "\u001b[?25hCollecting numpy>=1.17.3\n",
            "  Downloading numpy-1.21.5-cp37-cp37m-manylinux_2_12_x86_64.manylinux2010_x86_64.whl (15.7 MB)\n",
            "\u001b[K     |████████████████████████████████| 15.7 MB 45.2 MB/s \n",
            "\u001b[?25hCollecting python-dateutil>=2.7.3\n",
            "  Downloading python_dateutil-2.8.2-py2.py3-none-any.whl (247 kB)\n",
            "\u001b[K     |████████████████████████████████| 247 kB 52.9 MB/s \n",
            "\u001b[?25hCollecting pytz>=2017.3\n",
            "  Downloading pytz-2021.3-py2.py3-none-any.whl (503 kB)\n",
            "\u001b[K     |████████████████████████████████| 503 kB 59.6 MB/s \n",
            "\u001b[?25hCollecting six>=1.5\n",
            "  Downloading six-1.16.0-py2.py3-none-any.whl (11 kB)\n",
            "Saved ./pandas-1.3.5-cp37-cp37m-manylinux_2_17_x86_64.manylinux2014_x86_64.whl\n",
            "Saved ./numpy-1.21.5-cp37-cp37m-manylinux_2_12_x86_64.manylinux2010_x86_64.whl\n",
            "Saved ./python_dateutil-2.8.2-py2.py3-none-any.whl\n",
            "Saved ./pytz-2021.3-py2.py3-none-any.whl\n",
            "Saved ./six-1.16.0-py2.py3-none-any.whl\n",
            "Successfully downloaded pandas numpy python-dateutil pytz six\n"
          ]
        }
      ]
    },
    {
      "cell_type": "markdown",
      "source": [
        "<h1>Orientação a objetos</h1>"
      ],
      "metadata": {
        "id": "NZ4scdMW4-Td"
      }
    },
    {
      "cell_type": "code",
      "source": [
        "class nome:\n",
        "  pass"
      ],
      "metadata": {
        "id": "8q04T8n35uub"
      },
      "execution_count": 1,
      "outputs": []
    },
    {
      "cell_type": "code",
      "source": [
        "# objeto = new nome class():\n",
        "\n",
        "class Cachorro:\n",
        "  pass\n",
        "  #atributos\n",
        "  nome = \"Mec\"\n",
        "  idade = 5\n",
        "  cor = \"Preto\"\n",
        "  #comportamento\n",
        "  def Ladra(self):\n",
        "    print(\"Au Au au\")\n",
        "  #situação"
      ],
      "metadata": {
        "id": "PzD8jq-v5hfJ"
      },
      "execution_count": null,
      "outputs": []
    },
    {
      "cell_type": "code",
      "source": [
        "rex = Cachorro()"
      ],
      "metadata": {
        "id": "0lmlBfj670Gf"
      },
      "execution_count": null,
      "outputs": []
    },
    {
      "cell_type": "code",
      "source": [
        "rex.ladra()"
      ],
      "metadata": {
        "id": "3qlKdchf77Y_"
      },
      "execution_count": null,
      "outputs": []
    },
    {
      "cell_type": "code",
      "source": [
        "class Pessoa:\n",
        "  def __init__(self, nome, idade, cpf):\n",
        "    self.nome = nome\n",
        "    self.idade = idade\n",
        "    self.cpf = cpf\n",
        "\n",
        "  def DizOla(self):\n",
        "    print(\"Olá, meu nome é \", self.nome, \"tenho\", self.idade, \"anos\")"
      ],
      "metadata": {
        "id": "L5JPxcUI8R6d"
      },
      "execution_count": 40,
      "outputs": []
    },
    {
      "cell_type": "code",
      "source": [
        "rafa = Pessoa('Rafael', 29, 1651458792)\n",
        "  "
      ],
      "metadata": {
        "id": "UEbJD4529-bJ"
      },
      "execution_count": 41,
      "outputs": []
    },
    {
      "cell_type": "code",
      "source": [
        "rafa.DizOla()"
      ],
      "metadata": {
        "id": "N4sq0JdW-V1H",
        "outputId": "13b8174b-4588-4880-c3d8-82eaaa216350",
        "colab": {
          "base_uri": "https://localhost:8080/"
        }
      },
      "execution_count": 42,
      "outputs": [
        {
          "output_type": "stream",
          "name": "stdout",
          "text": [
            "Olá, meu nome é  Rafael tenho 29 anos\n"
          ]
        }
      ]
    }
  ]
}